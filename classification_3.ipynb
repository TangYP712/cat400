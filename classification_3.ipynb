{
 "cells": [
  {
   "cell_type": "code",
   "execution_count": 1,
   "metadata": {},
   "outputs": [],
   "source": [
    "import pandas as pd\n",
    "import numpy as np"
   ]
  },
  {
   "cell_type": "code",
   "execution_count": 2,
   "metadata": {},
   "outputs": [
    {
     "data": {
      "text/html": [
       "<div>\n",
       "<style scoped>\n",
       "    .dataframe tbody tr th:only-of-type {\n",
       "        vertical-align: middle;\n",
       "    }\n",
       "\n",
       "    .dataframe tbody tr th {\n",
       "        vertical-align: top;\n",
       "    }\n",
       "\n",
       "    .dataframe thead th {\n",
       "        text-align: right;\n",
       "    }\n",
       "</style>\n",
       "<table border=\"1\" class=\"dataframe\">\n",
       "  <thead>\n",
       "    <tr style=\"text-align: right;\">\n",
       "      <th></th>\n",
       "      <th>Customer ID</th>\n",
       "      <th>Recency</th>\n",
       "      <th>Frequency</th>\n",
       "      <th>Monetary</th>\n",
       "      <th>R_rank_norm</th>\n",
       "      <th>F_rank_norm</th>\n",
       "      <th>M_rank_norm</th>\n",
       "      <th>RFM_Score</th>\n",
       "      <th>Rank</th>\n",
       "    </tr>\n",
       "  </thead>\n",
       "  <tbody>\n",
       "    <tr>\n",
       "      <th>0</th>\n",
       "      <td>1</td>\n",
       "      <td>24</td>\n",
       "      <td>18</td>\n",
       "      <td>41.68</td>\n",
       "      <td>19.78</td>\n",
       "      <td>87.10</td>\n",
       "      <td>87.10</td>\n",
       "      <td>3.85</td>\n",
       "      <td>3</td>\n",
       "    </tr>\n",
       "    <tr>\n",
       "      <th>1</th>\n",
       "      <td>2</td>\n",
       "      <td>28</td>\n",
       "      <td>4</td>\n",
       "      <td>14.43</td>\n",
       "      <td>8.21</td>\n",
       "      <td>34.20</td>\n",
       "      <td>34.20</td>\n",
       "      <td>1.51</td>\n",
       "      <td>1</td>\n",
       "    </tr>\n",
       "    <tr>\n",
       "      <th>2</th>\n",
       "      <td>3</td>\n",
       "      <td>18</td>\n",
       "      <td>10</td>\n",
       "      <td>125.39</td>\n",
       "      <td>38.89</td>\n",
       "      <td>68.82</td>\n",
       "      <td>68.82</td>\n",
       "      <td>3.22</td>\n",
       "      <td>3</td>\n",
       "    </tr>\n",
       "    <tr>\n",
       "      <th>3</th>\n",
       "      <td>4</td>\n",
       "      <td>16</td>\n",
       "      <td>9</td>\n",
       "      <td>31.31</td>\n",
       "      <td>45.64</td>\n",
       "      <td>64.85</td>\n",
       "      <td>64.85</td>\n",
       "      <td>3.10</td>\n",
       "      <td>3</td>\n",
       "    </tr>\n",
       "    <tr>\n",
       "      <th>4</th>\n",
       "      <td>5</td>\n",
       "      <td>1</td>\n",
       "      <td>3</td>\n",
       "      <td>16.75</td>\n",
       "      <td>96.42</td>\n",
       "      <td>24.70</td>\n",
       "      <td>24.70</td>\n",
       "      <td>1.77</td>\n",
       "      <td>2</td>\n",
       "    </tr>\n",
       "    <tr>\n",
       "      <th>...</th>\n",
       "      <td>...</td>\n",
       "      <td>...</td>\n",
       "      <td>...</td>\n",
       "      <td>...</td>\n",
       "      <td>...</td>\n",
       "      <td>...</td>\n",
       "      <td>...</td>\n",
       "      <td>...</td>\n",
       "      <td>...</td>\n",
       "    </tr>\n",
       "    <tr>\n",
       "      <th>245</th>\n",
       "      <td>246</td>\n",
       "      <td>13</td>\n",
       "      <td>9</td>\n",
       "      <td>53.01</td>\n",
       "      <td>56.58</td>\n",
       "      <td>64.85</td>\n",
       "      <td>64.85</td>\n",
       "      <td>3.18</td>\n",
       "      <td>3</td>\n",
       "    </tr>\n",
       "    <tr>\n",
       "      <th>246</th>\n",
       "      <td>247</td>\n",
       "      <td>8</td>\n",
       "      <td>4</td>\n",
       "      <td>61.16</td>\n",
       "      <td>72.79</td>\n",
       "      <td>34.20</td>\n",
       "      <td>34.20</td>\n",
       "      <td>2.00</td>\n",
       "      <td>2</td>\n",
       "    </tr>\n",
       "    <tr>\n",
       "      <th>247</th>\n",
       "      <td>248</td>\n",
       "      <td>10</td>\n",
       "      <td>5</td>\n",
       "      <td>35.84</td>\n",
       "      <td>65.30</td>\n",
       "      <td>42.45</td>\n",
       "      <td>42.45</td>\n",
       "      <td>2.29</td>\n",
       "      <td>2</td>\n",
       "    </tr>\n",
       "    <tr>\n",
       "      <th>248</th>\n",
       "      <td>249</td>\n",
       "      <td>1</td>\n",
       "      <td>12</td>\n",
       "      <td>19.98</td>\n",
       "      <td>96.42</td>\n",
       "      <td>75.41</td>\n",
       "      <td>75.41</td>\n",
       "      <td>3.93</td>\n",
       "      <td>3</td>\n",
       "    </tr>\n",
       "    <tr>\n",
       "      <th>249</th>\n",
       "      <td>250</td>\n",
       "      <td>10</td>\n",
       "      <td>8</td>\n",
       "      <td>45.16</td>\n",
       "      <td>65.30</td>\n",
       "      <td>60.34</td>\n",
       "      <td>60.34</td>\n",
       "      <td>3.05</td>\n",
       "      <td>3</td>\n",
       "    </tr>\n",
       "  </tbody>\n",
       "</table>\n",
       "<p>250 rows × 9 columns</p>\n",
       "</div>"
      ],
      "text/plain": [
       "     Customer ID  Recency  Frequency  Monetary  R_rank_norm  F_rank_norm  \\\n",
       "0              1       24         18     41.68        19.78        87.10   \n",
       "1              2       28          4     14.43         8.21        34.20   \n",
       "2              3       18         10    125.39        38.89        68.82   \n",
       "3              4       16          9     31.31        45.64        64.85   \n",
       "4              5        1          3     16.75        96.42        24.70   \n",
       "..           ...      ...        ...       ...          ...          ...   \n",
       "245          246       13          9     53.01        56.58        64.85   \n",
       "246          247        8          4     61.16        72.79        34.20   \n",
       "247          248       10          5     35.84        65.30        42.45   \n",
       "248          249        1         12     19.98        96.42        75.41   \n",
       "249          250       10          8     45.16        65.30        60.34   \n",
       "\n",
       "     M_rank_norm  RFM_Score  Rank  \n",
       "0          87.10       3.85     3  \n",
       "1          34.20       1.51     1  \n",
       "2          68.82       3.22     3  \n",
       "3          64.85       3.10     3  \n",
       "4          24.70       1.77     2  \n",
       "..           ...        ...   ...  \n",
       "245        64.85       3.18     3  \n",
       "246        34.20       2.00     2  \n",
       "247        42.45       2.29     2  \n",
       "248        75.41       3.93     3  \n",
       "249        60.34       3.05     3  \n",
       "\n",
       "[250 rows x 9 columns]"
      ]
     },
     "execution_count": 2,
     "metadata": {},
     "output_type": "execute_result"
    }
   ],
   "source": [
    "df = pd.read_csv(\"rfm_rank_dataset.csv\")\n",
    "df"
   ]
  },
  {
   "cell_type": "code",
   "execution_count": 3,
   "metadata": {},
   "outputs": [],
   "source": [
    "X = df[['Recency', 'Frequency', 'Monetary', 'R_rank_norm', 'F_rank_norm', 'M_rank_norm', 'RFM_Score']]\n",
    "y = df['Rank']"
   ]
  },
  {
   "cell_type": "code",
   "execution_count": 4,
   "metadata": {},
   "outputs": [],
   "source": [
    "from sklearn.model_selection import train_test_split\n",
    "X_train, X_test, y_train, y_test = train_test_split(X, y,  test_size = 0.2, random_state = 0)"
   ]
  },
  {
   "cell_type": "code",
   "execution_count": 5,
   "metadata": {},
   "outputs": [],
   "source": [
    "from sklearn.tree import DecisionTreeClassifier\n",
    "from sklearn.metrics import classification_report"
   ]
  },
  {
   "cell_type": "code",
   "execution_count": 6,
   "metadata": {},
   "outputs": [],
   "source": [
    "target_names = ['1','2','3','4','5']\n",
    "dt = DecisionTreeClassifier()\n",
    "model = dt.fit(X_train,y_train)\n",
    "y_pred = model.predict(X_test)"
   ]
  },
  {
   "cell_type": "code",
   "execution_count": 7,
   "metadata": {},
   "outputs": [
    {
     "name": "stdout",
     "output_type": "stream",
     "text": [
      "              precision    recall  f1-score   support\n",
      "\n",
      "           1       1.00      1.00      1.00        10\n",
      "           2       1.00      0.88      0.94        17\n",
      "           3       0.82      1.00      0.90         9\n",
      "           4       1.00      1.00      1.00        12\n",
      "           5       1.00      1.00      1.00         2\n",
      "\n",
      "    accuracy                           0.96        50\n",
      "   macro avg       0.96      0.98      0.97        50\n",
      "weighted avg       0.97      0.96      0.96        50\n",
      "\n"
     ]
    }
   ],
   "source": [
    "print(classification_report(y_test, y_pred, target_names=target_names))"
   ]
  },
  {
   "cell_type": "code",
   "execution_count": 8,
   "metadata": {},
   "outputs": [],
   "source": [
    "from sklearn.neighbors import KNeighborsClassifier\n",
    "KNN = KNeighborsClassifier(n_neighbors=3)\n",
    "modelKNN = KNN.fit(X_train,y_train)\n",
    "y_pred_KNN = modelKNN.predict(X_test)"
   ]
  },
  {
   "cell_type": "code",
   "execution_count": 9,
   "metadata": {},
   "outputs": [
    {
     "name": "stdout",
     "output_type": "stream",
     "text": [
      "              precision    recall  f1-score   support\n",
      "\n",
      "           1       0.89      0.80      0.84        10\n",
      "           2       0.86      0.71      0.77        17\n",
      "           3       0.53      0.89      0.67         9\n",
      "           4       0.90      0.75      0.82        12\n",
      "           5       1.00      1.00      1.00         2\n",
      "\n",
      "    accuracy                           0.78        50\n",
      "   macro avg       0.84      0.83      0.82        50\n",
      "weighted avg       0.82      0.78      0.79        50\n",
      "\n"
     ]
    }
   ],
   "source": [
    "print(classification_report(y_test, y_pred_KNN, target_names=target_names))"
   ]
  },
  {
   "cell_type": "code",
   "execution_count": 10,
   "metadata": {},
   "outputs": [
    {
     "data": {
      "text/plain": [
       "['classification_model.pkl']"
      ]
     },
     "execution_count": 10,
     "metadata": {},
     "output_type": "execute_result"
    }
   ],
   "source": [
    "import joblib\n",
    "joblib.dump(model,'classification_model.pkl')"
   ]
  },
  {
   "cell_type": "code",
   "execution_count": null,
   "metadata": {},
   "outputs": [],
   "source": []
  }
 ],
 "metadata": {
  "kernelspec": {
   "display_name": "Python 3.10.2 ('.venv': venv)",
   "language": "python",
   "name": "python3"
  },
  "language_info": {
   "codemirror_mode": {
    "name": "ipython",
    "version": 3
   },
   "file_extension": ".py",
   "mimetype": "text/x-python",
   "name": "python",
   "nbconvert_exporter": "python",
   "pygments_lexer": "ipython3",
   "version": "3.10.2"
  },
  "orig_nbformat": 4,
  "vscode": {
   "interpreter": {
    "hash": "6ecfa77d3ec59d1e17c0e0a0d1c45c8566c257e0f070eb54956c7b422cdb9fd4"
   }
  }
 },
 "nbformat": 4,
 "nbformat_minor": 2
}
